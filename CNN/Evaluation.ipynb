{
 "cells": [
  {
   "cell_type": "code",
   "execution_count": 4,
   "metadata": {},
   "outputs": [],
   "source": [
    "import tensorflow as tf\n",
    "import numpy as np\n",
    "from data_helpers import load_svhn, batch_iter"
   ]
  },
  {
   "cell_type": "code",
   "execution_count": 14,
   "metadata": {},
   "outputs": [],
   "source": [
    "from sklearn.metrics import classification_report, confusion_matrix\n",
    "import pandas as pd"
   ]
  },
  {
   "cell_type": "code",
   "execution_count": 17,
   "metadata": {},
   "outputs": [
    {
     "name": "stdout",
     "output_type": "stream",
     "text": [
      "X_train shape: (73257, 32, 32, 3)\n",
      "73257 train samples\n",
      "26032 test samples\n"
     ]
    }
   ],
   "source": [
    "x_train, y_train, x_test, y_test = load_svhn('../../data/')"
   ]
  },
  {
   "cell_type": "code",
   "execution_count": 16,
   "metadata": {},
   "outputs": [
    {
     "name": "stdout",
     "output_type": "stream",
     "text": [
      "INFO:tensorflow:Restoring parameters from final_model/final-model\n",
      "Total number of test examples: 26032\n",
      "Accuracy: 0.959896\n",
      "Classification report\n",
      "             precision    recall  f1-score   support\n",
      "\n",
      "          0       0.96      0.97      0.97      5099\n",
      "          1       0.97      0.97      0.97      4149\n",
      "          2       0.95      0.93      0.94      2882\n",
      "          3       0.97      0.97      0.97      2523\n",
      "          4       0.97      0.96      0.96      2384\n",
      "          5       0.95      0.97      0.96      1977\n",
      "          6       0.97      0.95      0.96      2019\n",
      "          7       0.97      0.93      0.95      1660\n",
      "          8       0.91      0.96      0.93      1595\n",
      "          9       0.96      0.96      0.96      1744\n",
      "\n",
      "avg / total       0.96      0.96      0.96     26032\n",
      "\n",
      "Confusion Matrix\n",
      "      0     1     2     3     4     5     6     7     8     9\n",
      "0  4966    22    18    34     8     9    21     4     2    15\n",
      "1    28  4025    39     9     5     2    23     4     7     7\n",
      "2    26    16  2681     6    27     7     5    12    96     6\n",
      "3    27    12     9  2447     4     4     3     1     7     9\n",
      "4    12     5    36     2  2277    33     2     6     9     2\n",
      "5     5     2     5     7    14  1915     2    10     5    12\n",
      "6    51    27     9     4     1     1  1919     2     3     2\n",
      "7    11     8     8     7     5    35     1  1552    22    11\n",
      "8    13    22     4     3     4     2     1     6  1526    14\n",
      "9    17     5    10     0     4    15     3     6     4  1680\n"
     ]
    }
   ],
   "source": [
    "graph = tf.Graph()\n",
    "with graph.as_default():\n",
    "    sess = tf.Session()\n",
    "    with sess.as_default():\n",
    "        saver = tf.train.import_meta_graph('final_model/final-model.meta')\n",
    "        saver.restore(sess, 'final_model/final-model')\n",
    "        keep_prob_1 = graph.get_operation_by_name('dropout1/keep_prob_1').outputs[0]\n",
    "        keep_prob_2 = graph.get_operation_by_name('dropout2/keep_prob_2').outputs[0]\n",
    "        keep_prob_3 = graph.get_operation_by_name('dropout3/keep_prob_3').outputs[0]\n",
    "        keep_prob_4 = graph.get_operation_by_name('dropout4/keep_prob_4').outputs[0]\n",
    "        input_x = graph.get_operation_by_name('input_x').outputs[0]\n",
    "        predictions = graph.get_operation_by_name('fc2/predictions').outputs[0]\n",
    "        test_batches = batch_iter(list(x_test), 64, 1, shuffle=False)\n",
    "        all_predictions = []\n",
    "        for x_test_batch in test_batches:\n",
    "            test_feed_dict = {\n",
    "                keep_prob_1: 1.0,\n",
    "                keep_prob_2: 1.0,\n",
    "                keep_prob_3: 1.0,\n",
    "                keep_prob_4: 1.0,\n",
    "                input_x: x_test_batch\n",
    "            }\n",
    "            batch_predictions = sess.run(predictions, test_feed_dict)\n",
    "            all_predictions = np.concatenate([all_predictions, batch_predictions])\n",
    "        if y_test.ndim == 2:\n",
    "            y_test = np.argmax(y_test, 1)\n",
    "        correct_predictions = float(sum(all_predictions == y_test))\n",
    "        print(\"Total number of test examples: {}\".format(len(y_test)))\n",
    "        print(\"Accuracy: {:g}\".format(correct_predictions / float(len(y_test))))\n",
    "        con_mat = confusion_matrix(y_true=y_test, y_pred=all_predictions)\n",
    "        class_rep = classification_report(y_true=y_test, y_pred=all_predictions)\n",
    "        con_mat = pd.DataFrame(con_mat, index=np.arange(10), columns=np.arange(10))\n",
    "        print('Classification report')\n",
    "        print(class_rep)\n",
    "        print('Confusion Matrix')\n",
    "        print(con_mat)"
   ]
  },
  {
   "cell_type": "code",
   "execution_count": 18,
   "metadata": {},
   "outputs": [
    {
     "name": "stdout",
     "output_type": "stream",
     "text": [
      "INFO:tensorflow:Restoring parameters from final_model/final-model\n",
      "Total number of test examples: 73257\n",
      "Accuracy: 0.997898\n",
      "Classification report\n",
      "             precision    recall  f1-score   support\n",
      "\n",
      "          0       1.00      1.00      1.00     13861\n",
      "          1       1.00      1.00      1.00     10585\n",
      "          2       1.00      1.00      1.00      8497\n",
      "          3       1.00      1.00      1.00      7458\n",
      "          4       1.00      1.00      1.00      6882\n",
      "          5       1.00      1.00      1.00      5727\n",
      "          6       1.00      1.00      1.00      5595\n",
      "          7       1.00      1.00      1.00      5045\n",
      "          8       1.00      1.00      1.00      4659\n",
      "          9       1.00      1.00      1.00      4948\n",
      "\n",
      "avg / total       1.00      1.00      1.00     73257\n",
      "\n",
      "Confusion Matrix\n",
      "       0      1     2     3     4     5     6     7     8     9\n",
      "0  13833      3     5     6     1     4     2     4     1     2\n",
      "1      3  10579     1     0     0     0     0     1     0     1\n",
      "2      4      2  8481     0     8     0     0     2     0     0\n",
      "3      4      3     2  7446     1     0     1     0     0     1\n",
      "4      4      4    10     0  6856     6     0     0     2     0\n",
      "5      4      1     2     1     1  5713     0     4     0     1\n",
      "6      6      9     2     1     0     1  5576     0     0     0\n",
      "7      3      0     0     1     0     4     1  5035     1     0\n",
      "8      6      4     3     1     1     0     0     0  4642     2\n",
      "9      0      2     1     0     1     1     1     0     0  4942\n"
     ]
    }
   ],
   "source": [
    "graph = tf.Graph()\n",
    "with graph.as_default():\n",
    "    sess = tf.Session()\n",
    "    with sess.as_default():\n",
    "        saver = tf.train.import_meta_graph('final_model/final-model.meta')\n",
    "        saver.restore(sess, 'final_model/final-model')\n",
    "        keep_prob_1 = graph.get_operation_by_name('dropout1/keep_prob_1').outputs[0]\n",
    "        keep_prob_2 = graph.get_operation_by_name('dropout2/keep_prob_2').outputs[0]\n",
    "        keep_prob_3 = graph.get_operation_by_name('dropout3/keep_prob_3').outputs[0]\n",
    "        keep_prob_4 = graph.get_operation_by_name('dropout4/keep_prob_4').outputs[0]\n",
    "        input_x = graph.get_operation_by_name('input_x').outputs[0]\n",
    "        predictions = graph.get_operation_by_name('fc2/predictions').outputs[0]\n",
    "        test_batches = batch_iter(list(x_train), 64, 1, shuffle=False)\n",
    "        all_predictions = []\n",
    "        for x_test_batch in test_batches:\n",
    "            test_feed_dict = {\n",
    "                keep_prob_1: 1.0,\n",
    "                keep_prob_2: 1.0,\n",
    "                keep_prob_3: 1.0,\n",
    "                keep_prob_4: 1.0,\n",
    "                input_x: x_test_batch\n",
    "            }\n",
    "            batch_predictions = sess.run(predictions, test_feed_dict)\n",
    "            all_predictions = np.concatenate([all_predictions, batch_predictions])\n",
    "        if y_train.ndim == 2:\n",
    "            y_train = np.argmax(y_test, 1)\n",
    "        correct_predictions = float(sum(all_predictions == y_train))\n",
    "        print(\"Total number of test examples: {}\".format(len(y_train)))\n",
    "        print(\"Accuracy: {:g}\".format(correct_predictions / float(len(y_train))))\n",
    "        con_mat = confusion_matrix(y_true=y_train, y_pred=all_predictions)\n",
    "        class_rep = classification_report(y_true=y_train, y_pred=all_predictions)\n",
    "        con_mat = pd.DataFrame(con_mat, index=np.arange(10), columns=np.arange(10))\n",
    "        print('Classification report')\n",
    "        print(class_rep)\n",
    "        print('Confusion Matrix')\n",
    "        print(con_mat)"
   ]
  },
  {
   "cell_type": "code",
   "execution_count": null,
   "metadata": {},
   "outputs": [],
   "source": []
  }
 ],
 "metadata": {
  "kernelspec": {
   "display_name": "Python 3",
   "language": "python",
   "name": "python3"
  },
  "language_info": {
   "codemirror_mode": {
    "name": "ipython",
    "version": 3
   },
   "file_extension": ".py",
   "mimetype": "text/x-python",
   "name": "python",
   "nbconvert_exporter": "python",
   "pygments_lexer": "ipython3",
   "version": "3.5.4"
  }
 },
 "nbformat": 4,
 "nbformat_minor": 2
}
